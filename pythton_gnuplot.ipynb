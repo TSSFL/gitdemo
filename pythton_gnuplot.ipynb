{
 "cells": [
  {
   "cell_type": "code",
   "execution_count": 1,
   "metadata": {},
   "outputs": [],
   "source": [
    "import numpy\n",
    "import Gnuplot\n",
    "\n",
    "def rainfall_intensity_t10(t): \n",
    "    return 11.23 * (t**(-0.713))\n",
    "\n",
    "def rainfall_intensity_t50(t): \n",
    "    return 18.06 * (t**(-0.713))\n",
    "\n",
    "g = Gnuplot.Gnuplot()\n",
    "g.title(\"rainfall intensity\")\n",
    "\n",
    "g.xlabel(\"t (min)\")\n",
    "g.ylabel(\"i (mm/min)\")\n",
    "\n",
    "g(\"set grid\")\n",
    "g(\"set xtic 10\")\n",
    "g(\"set ytic 1\")\n",
    "\n",
    "x = numpy.arange (start=2, stop=120, step=0.5, dtype='float_')\n",
    "\n",
    "y1 = rainfall_intensity_t10(x) # yields another numpy.arange object\n",
    "y2 = rainfall_intensity_t50(x) # ...\n",
    "\n",
    "d1 = Gnuplot.Data (x, y1, title=\"intensity i (T=10)\", with_=\"lines\")\n",
    "d2 = Gnuplot.Data (x, y2, title=\"intensity i (T=50)\", with_=\"lines\")\n",
    "\n",
    "g(\"set terminal svg\")\n",
    "g.plot(d1, d2) # write SVG data directly to stdout ...\n",
    "\n",
    "g.hardcopy (filename='/tmp/rainfall-intensity.png', terminal='png') # write last plot to another terminal\n",
    "g.hardcopy (filename='/tmp/rainfall-intensity.svg', terminal='svg') # ...\n",
    "\n",
    "del g"
   ]
  },
  {
   "cell_type": "code",
   "execution_count": null,
   "metadata": {},
   "outputs": [],
   "source": []
  }
 ],
 "metadata": {
  "kernelspec": {
   "display_name": "Python 2",
   "language": "python",
   "name": "python2"
  },
  "language_info": {
   "codemirror_mode": {
    "name": "ipython",
    "version": 2
   },
   "file_extension": ".py",
   "mimetype": "text/x-python",
   "name": "python",
   "nbconvert_exporter": "python",
   "pygments_lexer": "ipython2",
   "version": "2.7.15"
  }
 },
 "nbformat": 4,
 "nbformat_minor": 2
}
